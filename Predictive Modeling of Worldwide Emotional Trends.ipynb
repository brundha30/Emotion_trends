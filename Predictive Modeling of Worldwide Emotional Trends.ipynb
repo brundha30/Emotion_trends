{
 "cells": [
  {
   "cell_type": "markdown",
   "metadata": {},
   "source": [
    "# Predictive Modeling of Worldwide Emotional Trends\n",
    "\n",
    "Analyzing the past emotions that were searched all over the world by using the collected data, created a model to predict the emotions literally."
   ]
  },
  {
   "cell_type": "markdown",
   "metadata": {},
   "source": [
    "# Import the relevant libraries"
   ]
  },
  {
   "cell_type": "code",
   "execution_count": 1,
   "metadata": {},
   "outputs": [],
   "source": [
    "import pandas as pd\n",
    "import numpy as np\n",
    "import matplotlib.pyplot as plt\n",
    "import seaborn as sns\n",
    "import warnings \n",
    "warnings.filterwarnings('ignore')"
   ]
  },
  {
   "cell_type": "markdown",
   "metadata": {},
   "source": [
    "# Load the dataset"
   ]
  },
  {
   "cell_type": "code",
   "execution_count": 2,
   "metadata": {},
   "outputs": [
    {
     "data": {
      "text/html": [
       "<div>\n",
       "<style scoped>\n",
       "    .dataframe tbody tr th:only-of-type {\n",
       "        vertical-align: middle;\n",
       "    }\n",
       "\n",
       "    .dataframe tbody tr th {\n",
       "        vertical-align: top;\n",
       "    }\n",
       "\n",
       "    .dataframe thead th {\n",
       "        text-align: right;\n",
       "    }\n",
       "</style>\n",
       "<table border=\"1\" class=\"dataframe\">\n",
       "  <thead>\n",
       "    <tr style=\"text-align: right;\">\n",
       "      <th></th>\n",
       "      <th>date</th>\n",
       "      <th>happy</th>\n",
       "      <th>sad</th>\n",
       "      <th>neutral</th>\n",
       "      <th>anxious</th>\n",
       "      <th>stressed</th>\n",
       "      <th>excited</th>\n",
       "      <th>lonely</th>\n",
       "      <th>confident</th>\n",
       "      <th>grateful</th>\n",
       "      <th>...</th>\n",
       "      <th>relieved</th>\n",
       "      <th>bored</th>\n",
       "      <th>hopeful</th>\n",
       "      <th>fearful</th>\n",
       "      <th>disappointed</th>\n",
       "      <th>calm</th>\n",
       "      <th>energetic</th>\n",
       "      <th>fulfilled</th>\n",
       "      <th>proud</th>\n",
       "      <th>vulnerable</th>\n",
       "    </tr>\n",
       "  </thead>\n",
       "  <tbody>\n",
       "    <tr>\n",
       "      <th>0</th>\n",
       "      <td>2018-08-26</td>\n",
       "      <td>0</td>\n",
       "      <td>2</td>\n",
       "      <td>5</td>\n",
       "      <td>55</td>\n",
       "      <td>64</td>\n",
       "      <td>57</td>\n",
       "      <td>35</td>\n",
       "      <td>0</td>\n",
       "      <td>20</td>\n",
       "      <td>...</td>\n",
       "      <td>19</td>\n",
       "      <td>22</td>\n",
       "      <td>0</td>\n",
       "      <td>0</td>\n",
       "      <td>29</td>\n",
       "      <td>27</td>\n",
       "      <td>19</td>\n",
       "      <td>60</td>\n",
       "      <td>19</td>\n",
       "      <td>11</td>\n",
       "    </tr>\n",
       "    <tr>\n",
       "      <th>1</th>\n",
       "      <td>2018-09-02</td>\n",
       "      <td>0</td>\n",
       "      <td>0</td>\n",
       "      <td>0</td>\n",
       "      <td>50</td>\n",
       "      <td>80</td>\n",
       "      <td>72</td>\n",
       "      <td>37</td>\n",
       "      <td>18</td>\n",
       "      <td>21</td>\n",
       "      <td>...</td>\n",
       "      <td>31</td>\n",
       "      <td>22</td>\n",
       "      <td>0</td>\n",
       "      <td>3</td>\n",
       "      <td>37</td>\n",
       "      <td>23</td>\n",
       "      <td>7</td>\n",
       "      <td>65</td>\n",
       "      <td>19</td>\n",
       "      <td>13</td>\n",
       "    </tr>\n",
       "    <tr>\n",
       "      <th>2</th>\n",
       "      <td>2018-09-09</td>\n",
       "      <td>1</td>\n",
       "      <td>0</td>\n",
       "      <td>9</td>\n",
       "      <td>52</td>\n",
       "      <td>73</td>\n",
       "      <td>70</td>\n",
       "      <td>39</td>\n",
       "      <td>20</td>\n",
       "      <td>20</td>\n",
       "      <td>...</td>\n",
       "      <td>15</td>\n",
       "      <td>22</td>\n",
       "      <td>0</td>\n",
       "      <td>4</td>\n",
       "      <td>33</td>\n",
       "      <td>0</td>\n",
       "      <td>19</td>\n",
       "      <td>68</td>\n",
       "      <td>19</td>\n",
       "      <td>13</td>\n",
       "    </tr>\n",
       "    <tr>\n",
       "      <th>3</th>\n",
       "      <td>2018-09-16</td>\n",
       "      <td>0</td>\n",
       "      <td>0</td>\n",
       "      <td>9</td>\n",
       "      <td>42</td>\n",
       "      <td>82</td>\n",
       "      <td>57</td>\n",
       "      <td>36</td>\n",
       "      <td>0</td>\n",
       "      <td>81</td>\n",
       "      <td>...</td>\n",
       "      <td>12</td>\n",
       "      <td>23</td>\n",
       "      <td>0</td>\n",
       "      <td>7</td>\n",
       "      <td>33</td>\n",
       "      <td>23</td>\n",
       "      <td>21</td>\n",
       "      <td>62</td>\n",
       "      <td>18</td>\n",
       "      <td>12</td>\n",
       "    </tr>\n",
       "    <tr>\n",
       "      <th>4</th>\n",
       "      <td>2018-09-23</td>\n",
       "      <td>0</td>\n",
       "      <td>0</td>\n",
       "      <td>0</td>\n",
       "      <td>43</td>\n",
       "      <td>68</td>\n",
       "      <td>67</td>\n",
       "      <td>37</td>\n",
       "      <td>0</td>\n",
       "      <td>31</td>\n",
       "      <td>...</td>\n",
       "      <td>35</td>\n",
       "      <td>22</td>\n",
       "      <td>0</td>\n",
       "      <td>7</td>\n",
       "      <td>33</td>\n",
       "      <td>22</td>\n",
       "      <td>7</td>\n",
       "      <td>67</td>\n",
       "      <td>18</td>\n",
       "      <td>13</td>\n",
       "    </tr>\n",
       "  </tbody>\n",
       "</table>\n",
       "<p>5 rows × 24 columns</p>\n",
       "</div>"
      ],
      "text/plain": [
       "         date  happy  sad  neutral  anxious  stressed  excited  lonely  \\\n",
       "0  2018-08-26      0    2        5       55        64       57      35   \n",
       "1  2018-09-02      0    0        0       50        80       72      37   \n",
       "2  2018-09-09      1    0        9       52        73       70      39   \n",
       "3  2018-09-16      0    0        9       42        82       57      36   \n",
       "4  2018-09-23      0    0        0       43        68       67      37   \n",
       "\n",
       "   confident  grateful  ...  relieved  bored  hopeful  fearful  disappointed  \\\n",
       "0          0        20  ...        19     22        0        0            29   \n",
       "1         18        21  ...        31     22        0        3            37   \n",
       "2         20        20  ...        15     22        0        4            33   \n",
       "3          0        81  ...        12     23        0        7            33   \n",
       "4          0        31  ...        35     22        0        7            33   \n",
       "\n",
       "   calm  energetic  fulfilled  proud  vulnerable  \n",
       "0    27         19         60     19          11  \n",
       "1    23          7         65     19          13  \n",
       "2     0         19         68     19          13  \n",
       "3    23         21         62     18          12  \n",
       "4    22          7         67     18          13  \n",
       "\n",
       "[5 rows x 24 columns]"
      ]
     },
     "execution_count": 2,
     "metadata": {},
     "output_type": "execute_result"
    }
   ],
   "source": [
    "df = pd.read_csv(\"manam.csv\")\n",
    "df.head()"
   ]
  },
  {
   "cell_type": "markdown",
   "metadata": {},
   "source": [
    "# Data processing"
   ]
  },
  {
   "cell_type": "code",
   "execution_count": 3,
   "metadata": {},
   "outputs": [
    {
     "data": {
      "text/plain": [
       "(260, 24)"
      ]
     },
     "execution_count": 3,
     "metadata": {},
     "output_type": "execute_result"
    }
   ],
   "source": [
    "df.shape"
   ]
  },
  {
   "cell_type": "markdown",
   "metadata": {},
   "source": [
    "Observation:\n",
    "    \n",
    "    --> It consists of 260 rows and 24 columns."
   ]
  },
  {
   "cell_type": "code",
   "execution_count": 4,
   "metadata": {},
   "outputs": [
    {
     "name": "stdout",
     "output_type": "stream",
     "text": [
      "<class 'pandas.core.frame.DataFrame'>\n",
      "RangeIndex: 260 entries, 0 to 259\n",
      "Data columns (total 24 columns):\n",
      " #   Column        Non-Null Count  Dtype \n",
      "---  ------        --------------  ----- \n",
      " 0   date          260 non-null    object\n",
      " 1   happy         260 non-null    int64 \n",
      " 2   sad           260 non-null    int64 \n",
      " 3   neutral       260 non-null    int64 \n",
      " 4   anxious       260 non-null    int64 \n",
      " 5   stressed      260 non-null    int64 \n",
      " 6   excited       260 non-null    int64 \n",
      " 7   lonely        260 non-null    int64 \n",
      " 8   confident     260 non-null    int64 \n",
      " 9   grateful      260 non-null    int64 \n",
      " 10  motivated     260 non-null    int64 \n",
      " 11  angry         260 non-null    int64 \n",
      " 12  overwhelmed   260 non-null    int64 \n",
      " 13  inspired      260 non-null    int64 \n",
      " 14  relieved      260 non-null    int64 \n",
      " 15  bored         260 non-null    int64 \n",
      " 16  hopeful       260 non-null    int64 \n",
      " 17  fearful       260 non-null    int64 \n",
      " 18  disappointed  260 non-null    int64 \n",
      " 19  calm          260 non-null    int64 \n",
      " 20  energetic     260 non-null    int64 \n",
      " 21  fulfilled     260 non-null    int64 \n",
      " 22  proud         260 non-null    int64 \n",
      " 23  vulnerable    260 non-null    int64 \n",
      "dtypes: int64(23), object(1)\n",
      "memory usage: 48.9+ KB\n"
     ]
    }
   ],
   "source": [
    "df.info()"
   ]
  },
  {
   "cell_type": "code",
   "execution_count": 5,
   "metadata": {},
   "outputs": [
    {
     "data": {
      "text/html": [
       "<div>\n",
       "<style scoped>\n",
       "    .dataframe tbody tr th:only-of-type {\n",
       "        vertical-align: middle;\n",
       "    }\n",
       "\n",
       "    .dataframe tbody tr th {\n",
       "        vertical-align: top;\n",
       "    }\n",
       "\n",
       "    .dataframe thead th {\n",
       "        text-align: right;\n",
       "    }\n",
       "</style>\n",
       "<table border=\"1\" class=\"dataframe\">\n",
       "  <thead>\n",
       "    <tr style=\"text-align: right;\">\n",
       "      <th></th>\n",
       "      <th>happy</th>\n",
       "      <th>sad</th>\n",
       "      <th>neutral</th>\n",
       "      <th>anxious</th>\n",
       "      <th>stressed</th>\n",
       "      <th>excited</th>\n",
       "      <th>lonely</th>\n",
       "      <th>confident</th>\n",
       "      <th>grateful</th>\n",
       "      <th>motivated</th>\n",
       "      <th>...</th>\n",
       "      <th>relieved</th>\n",
       "      <th>bored</th>\n",
       "      <th>hopeful</th>\n",
       "      <th>fearful</th>\n",
       "      <th>disappointed</th>\n",
       "      <th>calm</th>\n",
       "      <th>energetic</th>\n",
       "      <th>fulfilled</th>\n",
       "      <th>proud</th>\n",
       "      <th>vulnerable</th>\n",
       "    </tr>\n",
       "  </thead>\n",
       "  <tbody>\n",
       "    <tr>\n",
       "      <th>count</th>\n",
       "      <td>260.000000</td>\n",
       "      <td>260.000000</td>\n",
       "      <td>260.000000</td>\n",
       "      <td>260.000000</td>\n",
       "      <td>260.000000</td>\n",
       "      <td>260.000000</td>\n",
       "      <td>260.000000</td>\n",
       "      <td>260.000000</td>\n",
       "      <td>260.000000</td>\n",
       "      <td>260.000000</td>\n",
       "      <td>...</td>\n",
       "      <td>260.000000</td>\n",
       "      <td>260.000000</td>\n",
       "      <td>260.000000</td>\n",
       "      <td>260.000000</td>\n",
       "      <td>260.000000</td>\n",
       "      <td>260.000000</td>\n",
       "      <td>260.000000</td>\n",
       "      <td>260.000000</td>\n",
       "      <td>260.000000</td>\n",
       "      <td>260.000000</td>\n",
       "    </tr>\n",
       "    <tr>\n",
       "      <th>mean</th>\n",
       "      <td>0.434615</td>\n",
       "      <td>1.703846</td>\n",
       "      <td>2.857692</td>\n",
       "      <td>66.415385</td>\n",
       "      <td>70.953846</td>\n",
       "      <td>69.500000</td>\n",
       "      <td>37.269231</td>\n",
       "      <td>19.284615</td>\n",
       "      <td>28.123077</td>\n",
       "      <td>59.938462</td>\n",
       "      <td>...</td>\n",
       "      <td>40.130769</td>\n",
       "      <td>28.773077</td>\n",
       "      <td>8.888462</td>\n",
       "      <td>5.596154</td>\n",
       "      <td>34.646154</td>\n",
       "      <td>35.500000</td>\n",
       "      <td>35.430769</td>\n",
       "      <td>73.907692</td>\n",
       "      <td>24.703846</td>\n",
       "      <td>16.326923</td>\n",
       "    </tr>\n",
       "    <tr>\n",
       "      <th>std</th>\n",
       "      <td>0.504376</td>\n",
       "      <td>1.449532</td>\n",
       "      <td>5.065492</td>\n",
       "      <td>13.250648</td>\n",
       "      <td>9.106713</td>\n",
       "      <td>9.625617</td>\n",
       "      <td>7.719792</td>\n",
       "      <td>20.017650</td>\n",
       "      <td>18.905379</td>\n",
       "      <td>10.377994</td>\n",
       "      <td>...</td>\n",
       "      <td>18.670435</td>\n",
       "      <td>11.627688</td>\n",
       "      <td>15.404428</td>\n",
       "      <td>4.523041</td>\n",
       "      <td>5.591446</td>\n",
       "      <td>14.768614</td>\n",
       "      <td>17.982376</td>\n",
       "      <td>7.735937</td>\n",
       "      <td>14.257992</td>\n",
       "      <td>6.488841</td>\n",
       "    </tr>\n",
       "    <tr>\n",
       "      <th>min</th>\n",
       "      <td>0.000000</td>\n",
       "      <td>0.000000</td>\n",
       "      <td>0.000000</td>\n",
       "      <td>34.000000</td>\n",
       "      <td>44.000000</td>\n",
       "      <td>47.000000</td>\n",
       "      <td>28.000000</td>\n",
       "      <td>0.000000</td>\n",
       "      <td>0.000000</td>\n",
       "      <td>35.000000</td>\n",
       "      <td>...</td>\n",
       "      <td>0.000000</td>\n",
       "      <td>16.000000</td>\n",
       "      <td>0.000000</td>\n",
       "      <td>0.000000</td>\n",
       "      <td>27.000000</td>\n",
       "      <td>0.000000</td>\n",
       "      <td>0.000000</td>\n",
       "      <td>49.000000</td>\n",
       "      <td>15.000000</td>\n",
       "      <td>8.000000</td>\n",
       "    </tr>\n",
       "    <tr>\n",
       "      <th>25%</th>\n",
       "      <td>0.000000</td>\n",
       "      <td>0.000000</td>\n",
       "      <td>0.000000</td>\n",
       "      <td>57.000000</td>\n",
       "      <td>65.000000</td>\n",
       "      <td>62.000000</td>\n",
       "      <td>34.000000</td>\n",
       "      <td>0.000000</td>\n",
       "      <td>15.000000</td>\n",
       "      <td>53.000000</td>\n",
       "      <td>...</td>\n",
       "      <td>26.000000</td>\n",
       "      <td>22.000000</td>\n",
       "      <td>0.000000</td>\n",
       "      <td>0.000000</td>\n",
       "      <td>32.000000</td>\n",
       "      <td>26.000000</td>\n",
       "      <td>23.000000</td>\n",
       "      <td>68.000000</td>\n",
       "      <td>18.000000</td>\n",
       "      <td>13.000000</td>\n",
       "    </tr>\n",
       "    <tr>\n",
       "      <th>50%</th>\n",
       "      <td>0.000000</td>\n",
       "      <td>2.000000</td>\n",
       "      <td>0.000000</td>\n",
       "      <td>64.500000</td>\n",
       "      <td>72.000000</td>\n",
       "      <td>69.500000</td>\n",
       "      <td>36.000000</td>\n",
       "      <td>17.000000</td>\n",
       "      <td>27.000000</td>\n",
       "      <td>59.000000</td>\n",
       "      <td>...</td>\n",
       "      <td>38.000000</td>\n",
       "      <td>25.000000</td>\n",
       "      <td>0.000000</td>\n",
       "      <td>5.000000</td>\n",
       "      <td>34.000000</td>\n",
       "      <td>34.000000</td>\n",
       "      <td>31.000000</td>\n",
       "      <td>74.000000</td>\n",
       "      <td>20.000000</td>\n",
       "      <td>15.000000</td>\n",
       "    </tr>\n",
       "    <tr>\n",
       "      <th>75%</th>\n",
       "      <td>1.000000</td>\n",
       "      <td>3.000000</td>\n",
       "      <td>6.000000</td>\n",
       "      <td>76.000000</td>\n",
       "      <td>77.000000</td>\n",
       "      <td>76.000000</td>\n",
       "      <td>38.000000</td>\n",
       "      <td>30.250000</td>\n",
       "      <td>39.000000</td>\n",
       "      <td>66.000000</td>\n",
       "      <td>...</td>\n",
       "      <td>53.000000</td>\n",
       "      <td>31.000000</td>\n",
       "      <td>16.000000</td>\n",
       "      <td>8.000000</td>\n",
       "      <td>36.000000</td>\n",
       "      <td>44.000000</td>\n",
       "      <td>45.000000</td>\n",
       "      <td>79.250000</td>\n",
       "      <td>24.000000</td>\n",
       "      <td>19.000000</td>\n",
       "    </tr>\n",
       "    <tr>\n",
       "      <th>max</th>\n",
       "      <td>2.000000</td>\n",
       "      <td>8.000000</td>\n",
       "      <td>25.000000</td>\n",
       "      <td>100.000000</td>\n",
       "      <td>100.000000</td>\n",
       "      <td>100.000000</td>\n",
       "      <td>100.000000</td>\n",
       "      <td>97.000000</td>\n",
       "      <td>100.000000</td>\n",
       "      <td>100.000000</td>\n",
       "      <td>...</td>\n",
       "      <td>100.000000</td>\n",
       "      <td>100.000000</td>\n",
       "      <td>100.000000</td>\n",
       "      <td>21.000000</td>\n",
       "      <td>100.000000</td>\n",
       "      <td>100.000000</td>\n",
       "      <td>100.000000</td>\n",
       "      <td>100.000000</td>\n",
       "      <td>100.000000</td>\n",
       "      <td>100.000000</td>\n",
       "    </tr>\n",
       "  </tbody>\n",
       "</table>\n",
       "<p>8 rows × 23 columns</p>\n",
       "</div>"
      ],
      "text/plain": [
       "            happy         sad     neutral     anxious    stressed     excited  \\\n",
       "count  260.000000  260.000000  260.000000  260.000000  260.000000  260.000000   \n",
       "mean     0.434615    1.703846    2.857692   66.415385   70.953846   69.500000   \n",
       "std      0.504376    1.449532    5.065492   13.250648    9.106713    9.625617   \n",
       "min      0.000000    0.000000    0.000000   34.000000   44.000000   47.000000   \n",
       "25%      0.000000    0.000000    0.000000   57.000000   65.000000   62.000000   \n",
       "50%      0.000000    2.000000    0.000000   64.500000   72.000000   69.500000   \n",
       "75%      1.000000    3.000000    6.000000   76.000000   77.000000   76.000000   \n",
       "max      2.000000    8.000000   25.000000  100.000000  100.000000  100.000000   \n",
       "\n",
       "           lonely   confident    grateful   motivated  ...    relieved  \\\n",
       "count  260.000000  260.000000  260.000000  260.000000  ...  260.000000   \n",
       "mean    37.269231   19.284615   28.123077   59.938462  ...   40.130769   \n",
       "std      7.719792   20.017650   18.905379   10.377994  ...   18.670435   \n",
       "min     28.000000    0.000000    0.000000   35.000000  ...    0.000000   \n",
       "25%     34.000000    0.000000   15.000000   53.000000  ...   26.000000   \n",
       "50%     36.000000   17.000000   27.000000   59.000000  ...   38.000000   \n",
       "75%     38.000000   30.250000   39.000000   66.000000  ...   53.000000   \n",
       "max    100.000000   97.000000  100.000000  100.000000  ...  100.000000   \n",
       "\n",
       "            bored     hopeful     fearful  disappointed        calm  \\\n",
       "count  260.000000  260.000000  260.000000    260.000000  260.000000   \n",
       "mean    28.773077    8.888462    5.596154     34.646154   35.500000   \n",
       "std     11.627688   15.404428    4.523041      5.591446   14.768614   \n",
       "min     16.000000    0.000000    0.000000     27.000000    0.000000   \n",
       "25%     22.000000    0.000000    0.000000     32.000000   26.000000   \n",
       "50%     25.000000    0.000000    5.000000     34.000000   34.000000   \n",
       "75%     31.000000   16.000000    8.000000     36.000000   44.000000   \n",
       "max    100.000000  100.000000   21.000000    100.000000  100.000000   \n",
       "\n",
       "        energetic   fulfilled       proud  vulnerable  \n",
       "count  260.000000  260.000000  260.000000  260.000000  \n",
       "mean    35.430769   73.907692   24.703846   16.326923  \n",
       "std     17.982376    7.735937   14.257992    6.488841  \n",
       "min      0.000000   49.000000   15.000000    8.000000  \n",
       "25%     23.000000   68.000000   18.000000   13.000000  \n",
       "50%     31.000000   74.000000   20.000000   15.000000  \n",
       "75%     45.000000   79.250000   24.000000   19.000000  \n",
       "max    100.000000  100.000000  100.000000  100.000000  \n",
       "\n",
       "[8 rows x 23 columns]"
      ]
     },
     "execution_count": 5,
     "metadata": {},
     "output_type": "execute_result"
    }
   ],
   "source": [
    "df.describe()"
   ]
  },
  {
   "cell_type": "code",
   "execution_count": 6,
   "metadata": {},
   "outputs": [
    {
     "data": {
      "text/plain": [
       "date            0\n",
       "happy           0\n",
       "sad             0\n",
       "neutral         0\n",
       "anxious         0\n",
       "stressed        0\n",
       "excited         0\n",
       "lonely          0\n",
       "confident       0\n",
       "grateful        0\n",
       "motivated       0\n",
       "angry           0\n",
       "overwhelmed     0\n",
       "inspired        0\n",
       "relieved        0\n",
       "bored           0\n",
       "hopeful         0\n",
       "fearful         0\n",
       "disappointed    0\n",
       "calm            0\n",
       "energetic       0\n",
       "fulfilled       0\n",
       "proud           0\n",
       "vulnerable      0\n",
       "dtype: int64"
      ]
     },
     "execution_count": 6,
     "metadata": {},
     "output_type": "execute_result"
    }
   ],
   "source": [
    "df.isnull().sum()"
   ]
  },
  {
   "cell_type": "code",
   "execution_count": 7,
   "metadata": {},
   "outputs": [
    {
     "data": {
      "text/plain": [
       "Index(['date', 'happy', 'sad', 'neutral', 'anxious', 'stressed', 'excited',\n",
       "       'lonely', 'confident', 'grateful', 'motivated', 'angry', 'overwhelmed',\n",
       "       'inspired', 'relieved', 'bored', 'hopeful', 'fearful', 'disappointed',\n",
       "       'calm', 'energetic', 'fulfilled', 'proud', 'vulnerable'],\n",
       "      dtype='object')"
      ]
     },
     "execution_count": 7,
     "metadata": {},
     "output_type": "execute_result"
    }
   ],
   "source": [
    "df.columns"
   ]
  },
  {
   "cell_type": "code",
   "execution_count": 8,
   "metadata": {},
   "outputs": [
    {
     "data": {
      "text/plain": [
       "date            0\n",
       "happy           0\n",
       "sad             0\n",
       "neutral         0\n",
       "anxious         0\n",
       "stressed        0\n",
       "excited         0\n",
       "lonely          0\n",
       "confident       0\n",
       "grateful        0\n",
       "motivated       0\n",
       "angry           0\n",
       "overwhelmed     0\n",
       "inspired        0\n",
       "relieved        0\n",
       "bored           0\n",
       "hopeful         0\n",
       "fearful         0\n",
       "disappointed    0\n",
       "calm            0\n",
       "energetic       0\n",
       "fulfilled       0\n",
       "proud           0\n",
       "vulnerable      0\n",
       "dtype: int64"
      ]
     },
     "execution_count": 8,
     "metadata": {},
     "output_type": "execute_result"
    }
   ],
   "source": [
    "df.isna().sum()"
   ]
  },
  {
   "cell_type": "markdown",
   "metadata": {},
   "source": [
    "# Data Visualization"
   ]
  },
  {
   "cell_type": "markdown",
   "metadata": {},
   "source": [
    "# Visualizion using barplot"
   ]
  },
  {
   "cell_type": "code",
   "execution_count": 9,
   "metadata": {},
   "outputs": [
    {
     "data": {
      "image/png": "[encoded data removed]",
      "text/plain": [
       "<Figure size 864x432 with 1 Axes>"
      ]
     },
     "metadata": {
      "needs_background": "light"
     },
     "output_type": "display_data"
    }
   ],
   "source": [
    "plt.figure(figsize=(12, 6))\n",
    "\n",
    "subset_countries = df.nlargest(10, \"fulfilled\")\n",
    "\n",
    "ax = sns.barplot(data=subset_countries, x='date', y='fulfilled',hue = 'date')\n",
    "\n",
    "ax.legend(title=\"Date\", title_fontsize=14, fontsize=10, bbox_to_anchor=(1, 0), loc='lower right')\n",
    "\n",
    "plt.xlabel(\"Date\")\n",
    "plt.ylabel(\"Interest\")\n",
    "plt.title(\"Interest in emotion 'Fulfilled' by TOP 10\")\n",
    "\n",
    "ax.set_xticklabels(ax.get_xticklabels(), rotation=45, ha=\"right\")\n",
    "plt.tight_layout()\n",
    "\n",
    "for bar in ax.patches:\n",
    "    bar.set_width(0.4) \n",
    "\n",
    "plt.show()"
   ]
  },
  {
   "cell_type": "code",
   "execution_count": 10,
   "metadata": {},
   "outputs": [
    {
     "data": {
      "image/png": "[encoded data removed]",
      "text/plain": [
       "<Figure size 864x432 with 1 Axes>"
      ]
     },
     "metadata": {
      "needs_background": "light"
     },
     "output_type": "display_data"
    }
   ],
   "source": [
    "plt.figure(figsize=(12, 6))\n",
    "\n",
    "subset_countries = df.nlargest(10, \"hopeful\")\n",
    "\n",
    "ax = sns.barplot(data=subset_countries, x='date', y='hopeful',hue = 'date')\n",
    "\n",
    "ax.legend(title=\"Date\", title_fontsize=14, fontsize=10, bbox_to_anchor=(1, 0), loc='lower right')\n",
    "\n",
    "plt.xlabel(\"Date\")\n",
    "plt.ylabel(\"Interest\")\n",
    "plt.title(\"Interest in emotion 'Hopeful' by Region by TOP 10\")\n",
    "\n",
    "ax.set_xticklabels(ax.get_xticklabels(), rotation=45, ha=\"right\")\n",
    "plt.tight_layout()\n",
    "\n",
    "for bar in ax.patches:\n",
    "    bar.set_width(0.4) \n",
    "    \n",
    "plt.show()"
   ]
  },
  {
   "cell_type": "code",
   "execution_count": 11,
   "metadata": {},
   "outputs": [
    {
     "data": {
      "image/png": "[encoded data removed]",
      "text/plain": [
       "<Figure size 864x432 with 1 Axes>"
      ]
     },
     "metadata": {
      "needs_background": "light"
     },
     "output_type": "display_data"
    }
   ],
   "source": [
    "plt.figure(figsize=(12, 6))\n",
    "\n",
    "subset_countries = df.nlargest(10, \"sad\")\n",
    "\n",
    "ax = sns.barplot(data=subset_countries, x='date', y='hopeful',hue = 'date')\n",
    "\n",
    "ax.legend(title=\"Date\", title_fontsize=14, fontsize=10, bbox_to_anchor=(1, 0), loc='lower right')\n",
    "\n",
    "plt.xlabel(\"Date\")\n",
    "plt.ylabel(\"Interest\")\n",
    "plt.title(\"Interest in emotion 'Hopeful' by Region by TOP 10\")\n",
    "\n",
    "ax.set_xticklabels(ax.get_xticklabels(), rotation=45, ha=\"right\")\n",
    "plt.tight_layout()\n",
    "\n",
    "for bar in ax.patches:\n",
    "    bar.set_width(0.4) \n",
    "    \n",
    "plt.show()"
   ]
  },
  {
   "cell_type": "code",
   "execution_count": 12,
   "metadata": {},
   "outputs": [
    {
     "data": {
      "image/png": "[encoded data removed]",
      "text/plain": [
       "<Figure size 864x432 with 1 Axes>"
      ]
     },
     "metadata": {
      "needs_background": "light"
     },
     "output_type": "display_data"
    }
   ],
   "source": [
    "plt.figure(figsize=(12, 6))\n",
    "\n",
    "subset_countries = df.nlargest(10, \"proud\")\n",
    "\n",
    "ax = sns.barplot(data=subset_countries, x='date', y='hopeful',hue = 'date')\n",
    "\n",
    "ax.legend(title=\"Date\", title_fontsize=14, fontsize=10, bbox_to_anchor=(1, 0), loc='lower right')\n",
    "\n",
    "plt.xlabel(\"Date\")\n",
    "plt.ylabel(\"Interest\")\n",
    "plt.title(\"Interest in emotion 'Hopeful' by Region by TOP 10\")\n",
    "\n",
    "ax.set_xticklabels(ax.get_xticklabels(), rotation=45, ha=\"right\")\n",
    "plt.tight_layout()\n",
    "\n",
    "for bar in ax.patches:\n",
    "    bar.set_width(0.4) \n",
    "    \n",
    "plt.show()"
   ]
  },
  {
   "cell_type": "markdown",
   "metadata": {},
   "source": [
    "# Data Preparation"
   ]
  },
  {
   "cell_type": "code",
   "execution_count": 14,
   "metadata": {},
   "outputs": [],
   "source": [
    "emotion_columns = ['happy', 'sad', 'neutral', 'anxious', 'stressed', 'excited',\n",
    "       'lonely', 'confident', 'grateful', 'motivated', 'angry', 'overwhelmed',\n",
    "       'inspired', 'relieved', 'bored', 'hopeful', 'fearful', 'disappointed',\n",
    "       'calm', 'energetic', 'fulfilled', 'proud', 'vulnerable']"
   ]
  },
  {
   "cell_type": "code",
   "execution_count": 16,
   "metadata": {},
   "outputs": [],
   "source": [
    "X = df[emotion_columns].values"
   ]
  },
  {
   "cell_type": "code",
   "execution_count": 22,
   "metadata": {},
   "outputs": [],
   "source": [
    "n_steps =10 #previous time steps"
   ]
  },
  {
   "cell_type": "markdown",
   "metadata": {},
   "source": [
    "# Perform Feature Scaling"
   ]
  },
  {
   "cell_type": "code",
   "execution_count": 23,
   "metadata": {},
   "outputs": [
    {
     "data": {
      "text/plain": [
       "MinMaxScaler(copy=True, feature_range=(0, 1))"
      ]
     },
     "execution_count": 23,
     "metadata": {},
     "output_type": "execute_result"
    }
   ],
   "source": [
    "from sklearn.preprocessing import MinMaxScaler\n",
    "ms = MinMaxScaler()\n",
    "ms"
   ]
  },
  {
   "cell_type": "code",
   "execution_count": 24,
   "metadata": {},
   "outputs": [],
   "source": [
    "X_scaled = ms.fit_transform(X)"
   ]
  },
  {
   "cell_type": "code",
   "execution_count": 25,
   "metadata": {},
   "outputs": [
    {
     "data": {
      "text/plain": [
       "array([[0.        , 0.25      , 0.2       , ..., 0.21568627, 0.04705882,\n",
       "        0.0326087 ],\n",
       "       [0.        , 0.        , 0.        , ..., 0.31372549, 0.04705882,\n",
       "        0.05434783],\n",
       "       [0.5       , 0.        , 0.36      , ..., 0.37254902, 0.04705882,\n",
       "        0.05434783],\n",
       "       ...,\n",
       "       [0.        , 0.        , 0.24      , ..., 0.60784314, 0.18823529,\n",
       "        0.11956522],\n",
       "       [0.5       , 0.25      , 0.        , ..., 0.49019608, 0.12941176,\n",
       "        0.11956522],\n",
       "       [0.5       , 0.        , 0.24      , ..., 0.58823529, 0.11764706,\n",
       "        0.10869565]])"
      ]
     },
     "execution_count": 25,
     "metadata": {},
     "output_type": "execute_result"
    }
   ],
   "source": [
    "X_scaled"
   ]
  },
  {
   "cell_type": "code",
   "execution_count": 26,
   "metadata": {},
   "outputs": [
    {
     "data": {
      "text/plain": [
       "(260, 23)"
      ]
     },
     "execution_count": 26,
     "metadata": {},
     "output_type": "execute_result"
    }
   ],
   "source": [
    "X_scaled.shape"
   ]
  },
  {
   "cell_type": "code",
   "execution_count": 28,
   "metadata": {},
   "outputs": [],
   "source": [
    "X_1 = []\n",
    "y_1 = []\n",
    "\n",
    "for i in range(n_steps, len(X_scaled)):\n",
    "    X_1.append(X_scaled[i-n_steps:i].flatten())\n",
    "    y_1.append(np.argmax(X_scaled[i]))"
   ]
  },
  {
   "cell_type": "code",
   "execution_count": 29,
   "metadata": {},
   "outputs": [],
   "source": [
    "X_1 = np.array(X_1)\n",
    "y_1 = np.array(y_1)"
   ]
  },
  {
   "cell_type": "markdown",
   "metadata": {},
   "source": [
    "# Divide the data into X_1 and y_1"
   ]
  },
  {
   "cell_type": "code",
   "execution_count": 30,
   "metadata": {},
   "outputs": [],
   "source": [
    "from sklearn.model_selection import train_test_split\n",
    "X_train, X_test, y_train, y_test = train_test_split(X_1, y_1, test_size=0.2, shuffle = False)"
   ]
  },
  {
   "cell_type": "markdown",
   "metadata": {},
   "source": [
    "# Perform K-Nearest Neighbor on train data"
   ]
  },
  {
   "cell_type": "code",
   "execution_count": 31,
   "metadata": {},
   "outputs": [
    {
     "data": {
      "text/plain": [
       "KNeighborsClassifier(algorithm='auto', leaf_size=30, metric='minkowski',\n",
       "                     metric_params=None, n_jobs=None, n_neighbors=5, p=2,\n",
       "                     weights='uniform')"
      ]
     },
     "execution_count": 31,
     "metadata": {},
     "output_type": "execute_result"
    }
   ],
   "source": [
    "from sklearn.neighbors import KNeighborsClassifier\n",
    "knn = KNeighborsClassifier(n_neighbors=5)\n",
    "knn"
   ]
  },
  {
   "cell_type": "code",
   "execution_count": 34,
   "metadata": {},
   "outputs": [
    {
     "data": {
      "text/plain": [
       "KNeighborsClassifier(algorithm='auto', leaf_size=30, metric='minkowski',\n",
       "                     metric_params=None, n_jobs=None, n_neighbors=5, p=2,\n",
       "                     weights='uniform')"
      ]
     },
     "execution_count": 34,
     "metadata": {},
     "output_type": "execute_result"
    }
   ],
   "source": [
    "knn.fit(X_train, y_train)"
   ]
  },
  {
   "cell_type": "markdown",
   "metadata": {},
   "source": [
    "# Perform prediction on test data"
   ]
  },
  {
   "cell_type": "code",
   "execution_count": 35,
   "metadata": {},
   "outputs": [
    {
     "data": {
      "text/plain": [
       "array([10,  0,  3,  0, 20, 20,  3, 20, 20, 20,  3, 20, 20, 20,  3, 20, 20,\n",
       "       11,  2,  0,  0,  3,  2, 20, 20, 20, 20, 20,  3, 20,  3,  3, 21, 20,\n",
       "        3,  3,  3, 20, 21, 21, 10, 10, 10, 10, 10, 10, 10, 10, 10, 10],\n",
       "      dtype=int64)"
      ]
     },
     "execution_count": 35,
     "metadata": {},
     "output_type": "execute_result"
    }
   ],
   "source": [
    "y_pred = knn.predict(X_test)\n",
    "y_pred"
   ]
  },
  {
   "cell_type": "markdown",
   "metadata": {},
   "source": [
    "# Perform Support Vector Machine on train data"
   ]
  },
  {
   "cell_type": "code",
   "execution_count": 36,
   "metadata": {},
   "outputs": [
    {
     "data": {
      "text/plain": [
       "SVC(C=1.0, break_ties=False, cache_size=200, class_weight=None, coef0=0.0,\n",
       "    decision_function_shape='ovr', degree=3, gamma='scale', kernel='linear',\n",
       "    max_iter=-1, probability=False, random_state=None, shrinking=True,\n",
       "    tol=0.001, verbose=False)"
      ]
     },
     "execution_count": 36,
     "metadata": {},
     "output_type": "execute_result"
    }
   ],
   "source": [
    "from sklearn.svm import SVC\n",
    "svc = SVC(kernel = \"linear\")\n",
    "svc"
   ]
  },
  {
   "cell_type": "code",
   "execution_count": 37,
   "metadata": {},
   "outputs": [
    {
     "data": {
      "text/plain": [
       "SVC(C=1.0, break_ties=False, cache_size=200, class_weight=None, coef0=0.0,\n",
       "    decision_function_shape='ovr', degree=3, gamma='scale', kernel='linear',\n",
       "    max_iter=-1, probability=False, random_state=None, shrinking=True,\n",
       "    tol=0.001, verbose=False)"
      ]
     },
     "execution_count": 37,
     "metadata": {},
     "output_type": "execute_result"
    }
   ],
   "source": [
    "svc.fit(X_train, y_train)"
   ]
  },
  {
   "cell_type": "markdown",
   "metadata": {},
   "source": [
    "# Perform prediction on test data"
   ]
  },
  {
   "cell_type": "code",
   "execution_count": 38,
   "metadata": {},
   "outputs": [
    {
     "data": {
      "text/plain": [
       "array([ 3,  3, 11,  3,  3, 11,  3,  3,  3, 10, 11,  3, 20, 10, 10,  3, 20,\n",
       "        3,  3, 13,  3,  3, 10,  3, 11,  3, 11, 11,  3,  3, 11, 11, 11,  3,\n",
       "        3,  3, 11, 11,  3, 21, 10,  3,  3,  3,  3, 10,  3,  3, 11, 10],\n",
       "      dtype=int64)"
      ]
     },
     "execution_count": 38,
     "metadata": {},
     "output_type": "execute_result"
    }
   ],
   "source": [
    "y_pred_svc = svc.predict(X_test)\n",
    "y_pred_svc"
   ]
  },
  {
   "cell_type": "markdown",
   "metadata": {},
   "source": [
    "# Evaluation metrics"
   ]
  },
  {
   "cell_type": "code",
   "execution_count": 41,
   "metadata": {},
   "outputs": [
    {
     "name": "stdout",
     "output_type": "stream",
     "text": [
      "k-NN Accuracy: 0.1800\n"
     ]
    }
   ],
   "source": [
    "from sklearn.metrics import accuracy_score\n",
    "knn_accuracy = accuracy_score(y_test, y_pred)\n",
    "print(f\"k-NN Accuracy: {knn_accuracy:.4f}\")"
   ]
  },
  {
   "cell_type": "code",
   "execution_count": 42,
   "metadata": {},
   "outputs": [
    {
     "name": "stdout",
     "output_type": "stream",
     "text": [
      "k-NN SVC: 0.1800\n"
     ]
    }
   ],
   "source": [
    "knn_svc = accuracy_score(y_test, y_pred)\n",
    "print(f\"k-NN SVC: {knn_svc:.4f}\")"
   ]
  },
  {
   "cell_type": "markdown",
   "metadata": {},
   "source": [
    "# Observations"
   ]
  },
  {
   "cell_type": "markdown",
   "metadata": {},
   "source": [
    "--> Both the k-Nearest Neighbors (k-NN) and Support Vector Classifier (SVC) models exhibited an accuracy of 18% on the test data. \n",
    "\n",
    "--> This accuracy level is significantly below the desired performance.\n",
    "\n",
    "--> The current 18% accuracy of the models necessitates substantial improvement.\n",
    "\n",
    "--> The feature representation of past emotion scores might not effectively capture underlying patterns.\n",
    "\n",
    "--> Hyperparameters for both models may need tuning.\n",
    "\n",
    "--> Data preprocessing should be reviewed for accuracy and proper scaling.\n"
   ]
  },
  {
   "cell_type": "code",
   "execution_count": null,
   "metadata": {},
   "outputs": [],
   "source": []
  },
  {
   "cell_type": "code",
   "execution_count": null,
   "metadata": {},
   "outputs": [],
   "source": []
  },
  {
   "cell_type": "code",
   "execution_count": null,
   "metadata": {},
   "outputs": [],
   "source": []
  }
 ],
 "metadata": {
  "kernelspec": {
   "display_name": "Python 3",
   "language": "python",
   "name": "python3"
  },
  "language_info": {
   "codemirror_mode": {
    "name": "ipython",
    "version": 3
   },
   "file_extension": ".py",
   "mimetype": "text/x-python",
   "name": "python",
   "nbconvert_exporter": "python",
   "pygments_lexer": "ipython3",
   "version": "3.7.6"
  }
 },
 "nbformat": 4,
 "nbformat_minor": 4
}
